{
  "nbformat": 4,
  "nbformat_minor": 0,
  "metadata": {
    "colab": {
      "provenance": [],
      "authorship_tag": "ABX9TyM4nZwxWpwBRLNpZcnPSvSM",
      "include_colab_link": true
    },
    "kernelspec": {
      "name": "python3",
      "display_name": "Python 3"
    },
    "language_info": {
      "name": "python"
    }
  },
  "cells": [
    {
      "cell_type": "markdown",
      "metadata": {
        "id": "view-in-github",
        "colab_type": "text"
      },
      "source": [
        "<a href=\"https://colab.research.google.com/github/Rahat78692/-_-.-1/blob/main/pwskills_python_assignment_1.ipynb\" target=\"_parent\"><img src=\"https://colab.research.google.com/assets/colab-badge.svg\" alt=\"Open In Colab\"/></a>"
      ]
    },
    {
      "cell_type": "markdown",
      "source": [
        "1. Key Features of Python\n",
        "\n",
        "Python is a highly popular programming language for several reasons:\n",
        "\n",
        "Readability and Simplicity: Python has a clean and easy-to-read syntax, which makes it an excellent choice for beginners and allows developers to focus on solving problems rather than dealing with complex syntax.\n",
        "\n",
        "Versatility: Python is versatile and can be used for web development, data analysis, artificial intelligence, machine learning, automation, scientific computing, and more.\n",
        "\n",
        "Extensive Standard Library: Python comes with a rich standard library that supports many common programming tasks such as file I/O, system calls, and data manipulation.\n",
        "\n",
        "Community and Ecosystem: Python has a large and active community, which contributes to a wealth of third-party libraries and frameworks (like Django for web development, Pandas for data analysis, and TensorFlow for machine learning).\n",
        "\n",
        "Interpreted Language: Python is an interpreted language, which means that code is executed line by line, making debugging easier.\n",
        "\n",
        "Dynamic Typing: Variables in Python do not need an explicit declaration to reserve memory space. The declaration happens automatically when a value is assigned to a variable."
      ],
      "metadata": {
        "id": "VjqZ7Qv2p_RD"
      }
    },
    {
      "cell_type": "markdown",
      "source": [
        "2. Role of Predefined Keywords in Python\n",
        "\n",
        "Keywords in Python are reserved words that have special meanings and cannot be used as identifiers (variable names). They are fundamental to Python syntax and structure.There are 35 predefined keywords.\n",
        "\n",
        "Examples of some common keywords and their usage:\n",
        "\n",
        "\n"
      ],
      "metadata": {
        "id": "jr-GjQsErTrs"
      }
    },
    {
      "cell_type": "code",
      "source": [
        "#if, elif, else: Used for conditional statements.\n",
        "age = 50\n",
        "if (age<18):\n",
        "  print(\"You are a minor\")\n",
        "elif (18<=age<=65):\n",
        "  print(\"You are an adult\")\n",
        "else:\n",
        "  print(\"You are a senior citizen\")\n"
      ],
      "metadata": {
        "colab": {
          "base_uri": "https://localhost:8080/"
        },
        "id": "u1AEX4hhp-2x",
        "outputId": "1651891f-2f11-4270-c6dd-0c002cd2fba5"
      },
      "execution_count": 7,
      "outputs": [
        {
          "output_type": "stream",
          "name": "stdout",
          "text": [
            "You are an adult\n"
          ]
        }
      ]
    },
    {
      "cell_type": "code",
      "execution_count": 14,
      "metadata": {
        "colab": {
          "base_uri": "https://localhost:8080/"
        },
        "collapsed": true,
        "id": "jbjvkCh8p7IH",
        "outputId": "6b921fe9-d543-4737-ff67-2c77b5d5635d"
      },
      "outputs": [
        {
          "output_type": "stream",
          "name": "stdout",
          "text": [
            "0\n",
            "1\n",
            "2\n",
            "3\n",
            "4\n",
            "4\n",
            "5\n",
            "6\n"
          ]
        }
      ],
      "source": [
        "#for, while: Used for loops.\n",
        "for i in range(5):\n",
        "    print(i)\n",
        "n=7\n",
        "while i<n:\n",
        "  print(i)\n",
        "  i=i+1\n",
        "\n"
      ]
    },
    {
      "cell_type": "code",
      "source": [
        "#return: Used to exit a function and return a value.\n",
        "def add(a, b):\n",
        "    return a + b\n",
        "#import: Used to import modules.\n",
        "import math\n",
        "print(math.sqrt(16))\n",
        "\n",
        "\n"
      ],
      "metadata": {
        "colab": {
          "base_uri": "https://localhost:8080/"
        },
        "id": "Y_w0NvOtvrXb",
        "outputId": "15fd52cb-20c3-48d2-d867-71dc92fb0c0e"
      },
      "execution_count": 16,
      "outputs": [
        {
          "output_type": "stream",
          "name": "stdout",
          "text": [
            "4.0\n"
          ]
        }
      ]
    },
    {
      "cell_type": "markdown",
      "source": [
        "Mutable and Immutable Objects-\n",
        "\n",
        "In Python, objects can be mutable or immutable.\n",
        "\n",
        "Mutable Objects: Objects whose state or value can be changed after they are created.\n",
        "\n",
        "Examples: lists, dictionaries, sets.\n",
        "\n",
        "Immutable Objects: Objects whose state or value cannot be changed once they are created.\n",
        "\n",
        "Examples: integers, floats, strings, tuples.\n"
      ],
      "metadata": {
        "id": "MNiLi8CxxEn8"
      }
    },
    {
      "cell_type": "code",
      "source": [
        "#Mutable usage\n",
        "my_list = [1, 2, 3]\n",
        "my_list.append(4)  # List is mutable, so we can change its content\n",
        "print(my_list)  # Output: [1, 2, 3, 4]\n",
        "\n",
        "#Immutable usage\n",
        "my_string = \"Hello\"\n",
        "new_string = my_string + \" World\"  # This creates a new string rather than modifying the original one\n",
        "print(new_string)  # Output: \"Hello World\"\n",
        "print(my_string)   # Output: \"Hello\"\n"
      ],
      "metadata": {
        "colab": {
          "base_uri": "https://localhost:8080/"
        },
        "id": "fEUpk0ClvwnK",
        "outputId": "660238df-556a-40e9-9af8-fe20b8f50e53"
      },
      "execution_count": 18,
      "outputs": [
        {
          "output_type": "stream",
          "name": "stdout",
          "text": [
            "[1, 2, 3, 4]\n",
            "Hello World\n",
            "Hello\n"
          ]
        }
      ]
    },
    {
      "cell_type": "markdown",
      "source": [
        "4. Types of Operators in Python\n",
        "\n",
        "Python supports various types of operators for performing different operations:\n",
        "\n",
        "Arithmetic Operators: Used for mathematical operations.\n",
        "\n",
        "Examples: +, -, *, /, %, **, //\n",
        "\n",
        "Comparison Operators: Used to compare values.\n",
        "\n",
        "Examples: ==, !=, >, <, >=, <=\n",
        "\n",
        "Logical Operators: Used to combine conditional statements.\n",
        "\n",
        "Examples: and, or, not\n",
        "\n",
        "Assignment Operators: Used to assign values to variables.\n",
        "\n",
        "Examples: =, +=, -=, *=, /=, %=, **=, //=\n",
        "\n",
        "Bitwise Operators: Used to perform bit-level operations.\n",
        "\n",
        "Examples: &, |, ^, ~, <<, >>\n",
        "\n",
        "Identity operators: Used to compare the memory locations of two objects. There are two identity operators in Python:\n",
        "\n",
        "is: Evaluates to True if the variables on either side of the operator point to the same object in memory.\n",
        "\n",
        "is not: Evaluates to True if the variables on either side of the operator do not point to the same object in memory.\n",
        "\n",
        "Membership operators: Used to test whether a value or variable is found in a sequence (such as a string, list, tuple, set, or dictionary). There are two membership operators in Python:\n",
        "\n",
        "in: Evaluates to True if the value is found in the specified sequence.\n",
        "\n",
        "not in: Evaluates to True if the value is not found in the specified sequence."
      ],
      "metadata": {
        "id": "bHa_-FOhxC3q"
      }
    },
    {
      "cell_type": "code",
      "source": [
        "#Arithmatic operator\n",
        "x = 10\n",
        "y = 3\n",
        "print(x + y)  # Output: 13\n",
        "print(x - y)  # Output: 7\n",
        "print(x * y)  # Output: 30\n",
        "print(x / y)  # Output: 3.3333333333333335\n",
        "print(x % y)  # Output: 1\n",
        "print(x ** y)  # Output: 1000\n",
        "print(x // y)  # Output: 3\n"
      ],
      "metadata": {
        "colab": {
          "base_uri": "https://localhost:8080/"
        },
        "id": "FLYslKFVvwUZ",
        "outputId": "14525aa3-d73c-41a0-88c3-c85c1ba72f09"
      },
      "execution_count": 19,
      "outputs": [
        {
          "output_type": "stream",
          "name": "stdout",
          "text": [
            "13\n",
            "7\n",
            "30\n",
            "3.3333333333333335\n",
            "1\n",
            "1000\n",
            "3\n"
          ]
        }
      ]
    },
    {
      "cell_type": "code",
      "source": [
        "#Comparison Operators\n",
        "a = 5\n",
        "b = 10\n",
        "print(a == b)  # Output: False\n",
        "print(a != b)  # Output: True\n",
        "print(a > b)   # Output: False\n",
        "print(a < b)   # Output: True\n",
        "print(a >= b)  # Output: False\n",
        "print(a <= b)  # Output: True\n"
      ],
      "metadata": {
        "colab": {
          "base_uri": "https://localhost:8080/"
        },
        "id": "FGdRqaRTvwOn",
        "outputId": "3ea0ff9a-15ce-4524-8d89-302e85a73ffc"
      },
      "execution_count": 20,
      "outputs": [
        {
          "output_type": "stream",
          "name": "stdout",
          "text": [
            "False\n",
            "True\n",
            "False\n",
            "True\n",
            "False\n",
            "True\n"
          ]
        }
      ]
    },
    {
      "cell_type": "code",
      "source": [
        "#Logical operator\n",
        "x = True\n",
        "y = False\n",
        "print(x and y)  # Output: False\n",
        "print(x or y)   # Output: True\n",
        "print(not x)    # Output: False\n"
      ],
      "metadata": {
        "colab": {
          "base_uri": "https://localhost:8080/"
        },
        "id": "fXXk3fujvwF4",
        "outputId": "e26b4a07-5e4f-45f6-c39f-812cf053eea4"
      },
      "execution_count": 21,
      "outputs": [
        {
          "output_type": "stream",
          "name": "stdout",
          "text": [
            "False\n",
            "True\n",
            "False\n"
          ]
        }
      ]
    },
    {
      "cell_type": "code",
      "source": [
        "#Assignment operator\n",
        "a = 5\n",
        "a += 3  # Equivalent to a = a + 3\n",
        "print(a)  # Output: 8\n"
      ],
      "metadata": {
        "id": "wq7XjmOx16GQ"
      },
      "execution_count": null,
      "outputs": []
    },
    {
      "cell_type": "code",
      "source": [
        "#Bitwise operator\n",
        "a = 60  # 60 = 0011 1100\n",
        "b = 13  # 13 = 0000 1101\n",
        "print(a & b)  # Output: 12 (0000 1100)\n",
        "print(a | b)  # Output: 61 (0011 1101)\n",
        "print(a ^ b)  # Output: 49 (0011 0001)\n",
        "print(~a)     # Output: -61 (1100 0011)\n",
        "print(a << 2) # Output: 240 (1111 0000)\n",
        "print(a >> 2) # Output: 15 (0000 1111)\n"
      ],
      "metadata": {
        "colab": {
          "base_uri": "https://localhost:8080/"
        },
        "id": "TZrlb5-V15-e",
        "outputId": "81220daf-d4f6-448f-befa-81d31a671a80"
      },
      "execution_count": 22,
      "outputs": [
        {
          "output_type": "stream",
          "name": "stdout",
          "text": [
            "12\n",
            "61\n",
            "49\n",
            "-61\n",
            "240\n",
            "15\n"
          ]
        }
      ]
    },
    {
      "cell_type": "code",
      "source": [
        "#Identity operator\n",
        "a = [1, 2, 3]\n",
        "b = a\n",
        "c = [1, 2, 3]\n",
        "\n",
        "print(a is b)      # Output: True, since b is a reference to the same object as a\n",
        "print(a is c)      # Output: False, since c is a different object with the same content\n",
        "print(a is not c)  # Output: True, since a and c are not the same object\n"
      ],
      "metadata": {
        "colab": {
          "base_uri": "https://localhost:8080/"
        },
        "id": "8vgz1t3N152P",
        "outputId": "6bf67f7f-1ecb-40b7-ca90-0c9c9f926371"
      },
      "execution_count": 23,
      "outputs": [
        {
          "output_type": "stream",
          "name": "stdout",
          "text": [
            "True\n",
            "False\n",
            "True\n"
          ]
        }
      ]
    },
    {
      "cell_type": "code",
      "source": [
        "#Membership operator\n",
        "my_list = [1, 2, 3, 4, 5]\n",
        "\n",
        "print(3 in my_list)      # Output: True, since 3 is in the list\n",
        "print(6 in my_list)      # Output: False, since 6 is not in the list\n",
        "print(6 not in my_list)  # Output: True, since 6 is not in the list\n",
        "\n",
        "my_string = \"hello world\"\n",
        "\n",
        "print('h' in my_string)        # Output: True, since 'h' is in the string\n",
        "print('hello' in my_string)    # Output: True, since 'hello' is a substring\n",
        "print('goodbye' not in my_string)  # Output: True, since 'goodbye' is not in the string\n"
      ],
      "metadata": {
        "colab": {
          "base_uri": "https://localhost:8080/"
        },
        "id": "4pRYc1hL15oG",
        "outputId": "47ec1d02-69e7-4ed1-b0a5-3b80bf0e35dd"
      },
      "execution_count": 24,
      "outputs": [
        {
          "output_type": "stream",
          "name": "stdout",
          "text": [
            "True\n",
            "False\n",
            "True\n",
            "True\n",
            "True\n",
            "True\n"
          ]
        }
      ]
    },
    {
      "cell_type": "markdown",
      "source": [
        "5.Type Casting in Python\n",
        "Type casting refers to the conversion of one data type into another. Python supports several built-in functions for type casting."
      ],
      "metadata": {
        "id": "cIRxr3AE3Kb6"
      }
    },
    {
      "cell_type": "code",
      "source": [
        "#int(): Converts a value to an integer.\n",
        "x = int(\"10\")  # Converts string to integer\n",
        "print(x)  # Output: 10\n",
        "\n",
        "#float(): Converts a value to a float.\n",
        "y = float(\"10.5\")  # Converts string to float\n",
        "print(y)  # Output: 10.5\n",
        "\n",
        "#str(): Converts a value to a string.\n",
        "z = str(100)  # Converts integer to string\n",
        "print(z)  # Output: \"100\"\n",
        "\n",
        "#list(): Converts a value to a list.\n",
        "a = list((1, 2, 3))  # Converts tuple to list\n",
        "print(a)  # Output: [1, 2, 3]\n"
      ],
      "metadata": {
        "colab": {
          "base_uri": "https://localhost:8080/"
        },
        "id": "8dJw0-nRvv0V",
        "outputId": "8662dca8-479a-4fcf-b3fd-0c4edd52d44e"
      },
      "execution_count": 25,
      "outputs": [
        {
          "output_type": "stream",
          "name": "stdout",
          "text": [
            "10\n",
            "10.5\n",
            "100\n",
            "[1, 2, 3]\n"
          ]
        }
      ]
    },
    {
      "cell_type": "code",
      "source": [
        "#6.\n",
        "\"\"\"Conditional Statements in Python\n",
        "Conditional statements allow for decision-making in code based on conditions.\"\"\"\n",
        "#if statement:\n",
        "x = 10\n",
        "if x > 5:\n",
        "    print(\"x is greater than 5\")\n",
        "\n",
        "\n",
        "\n"
      ],
      "metadata": {
        "colab": {
          "base_uri": "https://localhost:8080/"
        },
        "id": "xQAQLQgtvvQP",
        "outputId": "49ea62d5-8b79-4905-9cad-c22b294f6ea4"
      },
      "execution_count": 28,
      "outputs": [
        {
          "output_type": "stream",
          "name": "stdout",
          "text": [
            "x is greater than 5\n"
          ]
        }
      ]
    },
    {
      "cell_type": "code",
      "source": [
        "#if-else statement:\n",
        "x = 4\n",
        "if x > 5:\n",
        "    print(\"x is greater than 5\")\n",
        "else:\n",
        "    print(\"x is not greater than 5\")\n"
      ],
      "metadata": {
        "colab": {
          "base_uri": "https://localhost:8080/"
        },
        "id": "zWQPAuRt41FJ",
        "outputId": "8cdd281f-4f04-400d-8c85-b79cc97063e5"
      },
      "execution_count": 29,
      "outputs": [
        {
          "output_type": "stream",
          "name": "stdout",
          "text": [
            "x is not greater than 5\n"
          ]
        }
      ]
    },
    {
      "cell_type": "code",
      "source": [
        "#if-elif-else statement:\n",
        "x = 5\n",
        "if x > 5:\n",
        "    print(\"x is greater than 5\")\n",
        "elif x == 5:\n",
        "    print(\"x is equal to 5\")\n",
        "else:\n",
        "    print(\"x is less than 5\")\n"
      ],
      "metadata": {
        "colab": {
          "base_uri": "https://localhost:8080/"
        },
        "id": "HzhRzF-K405e",
        "outputId": "cb8d8057-acc8-407c-d22a-f31c5d3b24d0"
      },
      "execution_count": 30,
      "outputs": [
        {
          "output_type": "stream",
          "name": "stdout",
          "text": [
            "x is equal to 5\n"
          ]
        }
      ]
    },
    {
      "cell_type": "code",
      "source": [
        "#nested if-else statement:\n",
        "number = 10\n",
        "\n",
        "if number > 0:\n",
        "    print(\"The number is positive\")\n",
        "    if number % 2 == 0:\n",
        "        print(\"The number is even\")\n",
        "    else:\n",
        "        print(\"The number is odd\")\n",
        "else:\n",
        "    print(\"The number is non-positive\")\n",
        "    if number == 0:\n",
        "        print(\"The number is zero\")\n",
        "    else:\n",
        "        print(\"The number is negative\")"
      ],
      "metadata": {
        "colab": {
          "base_uri": "https://localhost:8080/"
        },
        "id": "91Z7GxPK40n7",
        "outputId": "f5a99d7a-91e9-437a-bc17-5f71983ac78c"
      },
      "execution_count": 31,
      "outputs": [
        {
          "output_type": "stream",
          "name": "stdout",
          "text": [
            "The number is positive\n",
            "The number is even\n"
          ]
        }
      ]
    },
    {
      "cell_type": "code",
      "source": [
        "\"\"\"Types of Loops in Python\n",
        "Python supports different types of loops for iterating over sequences or performing repeated tasks.\"\"\"\n",
        "\n",
        "#for loop: Used for iterating over a sequence (like a list, tuple, dictionary, set, or string).\n",
        "for i in range(5):\n",
        "    print(i)\n",
        "# Output: 0 1 2 3 4\n"
      ],
      "metadata": {
        "colab": {
          "base_uri": "https://localhost:8080/"
        },
        "id": "s59pqgzc7DnE",
        "outputId": "0c861819-e050-4bae-a1ab-7e733751a573"
      },
      "execution_count": 32,
      "outputs": [
        {
          "output_type": "stream",
          "name": "stdout",
          "text": [
            "0\n",
            "1\n",
            "2\n",
            "3\n",
            "4\n"
          ]
        }
      ]
    },
    {
      "cell_type": "code",
      "source": [
        "#while loop: Repeats as long as a condition is true.\n",
        "x = 0\n",
        "while x < 5:\n",
        "    print(x)\n",
        "    x += 1\n",
        "# Output: 0 1 2 3 4\n"
      ],
      "metadata": {
        "colab": {
          "base_uri": "https://localhost:8080/"
        },
        "id": "3h5HY1f07Vpv",
        "outputId": "fd775a25-1cfa-47a8-900d-e041a205cbf4"
      },
      "execution_count": 33,
      "outputs": [
        {
          "output_type": "stream",
          "name": "stdout",
          "text": [
            "0\n",
            "1\n",
            "2\n",
            "3\n",
            "4\n"
          ]
        }
      ]
    },
    {
      "cell_type": "code",
      "source": [
        "#Nested loops: Loops inside other loops.\n",
        "for i in range(3):\n",
        "    for j in range(2):\n",
        "        print(i, j)\n",
        "# Output: (0, 0) (0, 1) (1, 0) (1, 1) (2, 0) (2, 1)\n"
      ],
      "metadata": {
        "colab": {
          "base_uri": "https://localhost:8080/"
        },
        "id": "XfXMbhxI7jF3",
        "outputId": "5ae80b61-8223-44b9-e197-18f183b9c9f8"
      },
      "execution_count": 34,
      "outputs": [
        {
          "output_type": "stream",
          "name": "stdout",
          "text": [
            "0 0\n",
            "0 1\n",
            "1 0\n",
            "1 1\n",
            "2 0\n",
            "2 1\n"
          ]
        }
      ]
    },
    {
      "cell_type": "code",
      "source": [],
      "metadata": {
        "id": "O4vHEZRF7r4Q"
      },
      "execution_count": null,
      "outputs": []
    }
  ]
}